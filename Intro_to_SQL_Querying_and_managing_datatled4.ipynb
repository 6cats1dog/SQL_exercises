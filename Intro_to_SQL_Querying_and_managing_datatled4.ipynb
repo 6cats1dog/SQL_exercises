{
  "nbformat": 4,
  "nbformat_minor": 0,
  "metadata": {
    "colab": {
      "name": "Intro to SQL: Querying and managing datatled4.ipynb",
      "provenance": []
    },
    "kernelspec": {
      "name": "python3",
      "display_name": "Python 3"
    },
    "language_info": {
      "name": "python"
    }
  },
  "cells": [
    {
      "cell_type": "markdown",
      "source": [
        "Box office hits database"
      ],
      "metadata": {
        "id": "LdwrSN4BQ7nd"
      }
    },
    {
      "cell_type": "code",
      "execution_count": 1,
      "metadata": {
        "colab": {
          "base_uri": "https://localhost:8080/",
          "height": 149
        },
        "id": "qST1yS9UQnjQ",
        "outputId": "b357618d-fc0e-415d-a531-1bbfaaade290"
      },
      "outputs": [
        {
          "output_type": "error",
          "ename": "SyntaxError",
          "evalue": "ignored",
          "traceback": [
            "\u001b[0;36m  File \u001b[0;32m\"<ipython-input-1-b1ab20973e17>\"\u001b[0;36m, line \u001b[0;32m1\u001b[0m\n\u001b[0;31m    CREATE TABLE movies (id INTEGER PRIMARY KEY, name TEXT, release_year INTEGER);\u001b[0m\n\u001b[0m               ^\u001b[0m\n\u001b[0;31mSyntaxError\u001b[0m\u001b[0;31m:\u001b[0m invalid syntax\n"
          ]
        }
      ],
      "source": [
        "CREATE TABLE movies (id INTEGER PRIMARY KEY, name TEXT, release_year INTEGER);\n",
        "INSERT INTO movies VALUES (1, \"Avatar\", 2009);\n",
        "INSERT INTO movies VALUES (2, \"Titanic\", 1997);\n",
        "INSERT INTO movies VALUES (3, \"Star Wars: Episode IV - A New Hope\", 1977);\n",
        "INSERT INTO movies VALUES (4, \"Shrek 2\", 2004);\n",
        "INSERT INTO movies VALUES (5, \"The Lion King\", 1994);\n",
        "INSERT INTO movies VALUES (6, \"Disney's Up\", 2009);\n",
        " \n",
        " \n",
        "SELECT * FROM movies;\n",
        "\n",
        "SELECT * FROM movies WHERE release_year > 2000 ORDER BY release_year;\n"
      ]
    },
    {
      "cell_type": "markdown",
      "source": [
        "TODO list database stats\n",
        "\n",
        "Here's a table containing a TODO list with the number of minutes it will take to complete each item. Insert another item to your todo list with the estimated minutes it will take."
      ],
      "metadata": {
        "id": "sRd0xLBpRP77"
      }
    },
    {
      "cell_type": "code",
      "source": [
        "CREATE TABLE todo_list (id INTEGER PRIMARY KEY, item TEXT, minutes INTEGER);\n",
        "INSERT INTO todo_list VALUES (1, \"Wash the dishes\", 15);\n",
        "INSERT INTO todo_list VALUES (2, \"vacuuming\", 20);\n",
        "INSERT INTO todo_list VALUES (3, \"Learn some stuff on KA\", 30);\n",
        "INSERT INTO todo_list VALUES (4, \"workout\", 60);\n",
        "\n",
        "SELECT SUM(minutes) FROM todo_list;\n"
      ],
      "metadata": {
        "id": "HbQUKQyyRIcG"
      },
      "execution_count": null,
      "outputs": []
    },
    {
      "cell_type": "markdown",
      "source": [
        "Project: Design a store database\n"
      ],
      "metadata": {
        "id": "kPBR_RCPRkzV"
      }
    },
    {
      "cell_type": "code",
      "source": [
        "CREATE TABLE cars (id INTEGER PRIMARY KEY, name TEXT, year INTEGER, miles INTEGER, price INTEGER, style TEXT);\n",
        "\n",
        "INSERT INTO cars VALUES(1, \"BMW\", 2021, 500, 75000, \"sedan\");\n",
        "INSERT INTO cars VALUES(2, \"TOYOTA\", 2015, 100000, 16000, \"SUV\");\n",
        "INSERT INTO cars VALUES(3, \"TESLA\", 2018, 32000, 45000, \"sedan\");\n",
        "INSERT INTO cars VALUES(4, \"FORD\", 2019, 15000, 23000, \"SUV\");\n",
        "INSERT INTO cars VALUES(5, \"MERCEDES BENZ\", 2020, 8000, 67000, \"sedan\");\n",
        "INSERT INTO cars VALUES(6, \"PORSCHE\", 2018, 3200, 125000, \"sports car\");\n",
        "INSERT INTO cars VALUES(7, \"FERRARI\", 2015, 8000, 179000, \"sports car\");\n",
        "INSERT INTO cars VALUES(8, \"MASARATI\", 2018, 25000, 65000, \"SUV\");\n",
        "INSERT INTO cars VALUES(9, \"VOLKSWAGEN\", 2010, 130000, 9000, \"sedan\");\n",
        "INSERT INTO cars VALUES(10, \"LEXUS\", 2019, 17000, 56000, \"SUV\");\n",
        "INSERT INTO cars VALUES(11, \"ACURA\", 2016, 50000, 32000, \"sedan\");\n",
        "INSERT INTO cars VALUES(12, \"MAZDA\", 2021, 8000, 43000, \"sports car\");\n",
        "INSERT INTO cars VALUES(13, \"CADILLAC\", 2022, 54, 98000, \"SUV\");\n",
        "INSERT INTO cars VALUES(14, \"LAND ROVER\", 2021, 12000, 57000, \"SUV\");\n",
        "INSERT INTO cars VALUES(15, \"BENTLEY\", 2022, 245, 260000, \"SUV\");\n",
        "\n",
        "SELECT * FROM cars WHERE price > 50000 ORDER BY price;\n",
        "\n",
        "SELECT style, SUM(miles) FROM cars GROUP BY price;"
      ],
      "metadata": {
        "id": "cVjsKGV8RlXy"
      },
      "execution_count": null,
      "outputs": []
    }
  ]
}