{
  "nbformat": 4,
  "nbformat_minor": 0,
  "metadata": {
    "colab": {
      "name": "Relational Queries in SQL.ipynb",
      "provenance": []
    },
    "kernelspec": {
      "name": "python3",
      "display_name": "Python 3"
    },
    "language_info": {
      "name": "python"
    }
  },
  "cells": [
    {
      "cell_type": "markdown",
      "source": [
        "Hobbies Challenge"
      ],
      "metadata": {
        "id": "4aTrvp3QV7gD"
      }
    },
    {
      "cell_type": "code",
      "execution_count": null,
      "metadata": {
        "id": "YYY25PgPVznS"
      },
      "outputs": [],
      "source": [
        "CREATE TABLE persons (\n",
        "    id INTEGER PRIMARY KEY AUTOINCREMENT,\n",
        "    name TEXT,\n",
        "    age INTEGER);\n",
        "    \n",
        "INSERT INTO persons (name, age) VALUES (\"Bobby McBobbyFace\", 12);\n",
        "INSERT INTO persons (name, age) VALUES (\"Lucy BoBucie\", 25);\n",
        "INSERT INTO persons (name, age) VALUES (\"Banana FoFanna\", 14);\n",
        "INSERT INTO persons (name, age) VALUES (\"Shish Kabob\", 20);\n",
        "INSERT INTO persons (name, age) VALUES (\"Fluffy Sparkles\", 8);\n",
        "INSERT INTO persons (name, age) VALUES (\"Richard Johnson\", 35);\n",
        "\n",
        "CREATE table hobbies (\n",
        "    id INTEGER PRIMARY KEY AUTOINCREMENT,\n",
        "    person_id INTEGER,\n",
        "    name TEXT);\n",
        "    \n",
        "INSERT INTO hobbies (person_id, name) VALUES (1, \"drawing\");\n",
        "INSERT INTO hobbies (person_id, name) VALUES (1, \"coding\");\n",
        "INSERT INTO hobbies (person_id, name) VALUES (2, \"dancing\");\n",
        "INSERT INTO hobbies (person_id, name) VALUES (2, \"coding\");\n",
        "INSERT INTO hobbies (person_id, name) VALUES (3, \"skating\");\n",
        "INSERT INTO hobbies (person_id, name) VALUES (3, \"rowing\");\n",
        "INSERT INTO hobbies (person_id, name) VALUES (3, \"drawing\");\n",
        "INSERT INTO hobbies (person_id, name) VALUES (4, \"coding\");\n",
        "INSERT INTO hobbies (person_id, name) VALUES (4, \"dilly-dallying\");\n",
        "INSERT INTO hobbies (person_id, name) VALUES (5, \"meowing\");\n",
        "INSERT INTO hobbies (person_id, name) VALUES(6, \"curling\");\n",
        "\n",
        "SELECT persons.name, hobbies.name FROM persons\n",
        "    JOIN hobbies\n",
        "    ON persons.id = hobbies.person_id;\n",
        "    \n",
        "SELECT persons.name, hobbies.name from persons\n",
        "    JOIN hobbies\n",
        "    ON persons.id = hobbies.person_id\n",
        "    WHERE hobbies.person_id = 1;\n",
        "    \n",
        "    \n",
        "    \n",
        "\n",
        "    \n",
        "    \n"
      ]
    },
    {
      "cell_type": "markdown",
      "source": [
        "Orders Challenge\n"
      ],
      "metadata": {
        "id": "ZIUozKMQWDEs"
      }
    },
    {
      "cell_type": "code",
      "source": [
        "CREATE TABLE customers (\n",
        "    id INTEGER PRIMARY KEY AUTOINCREMENT,\n",
        "    name TEXT,\n",
        "    email TEXT);\n",
        "    \n",
        "INSERT INTO customers (name, email) VALUES (\"Doctor Who\", \"doctorwho@timelords.com\");\n",
        "INSERT INTO customers (name, email) VALUES (\"Harry Potter\", \"harry@potter.com\");\n",
        "INSERT INTO customers (name, email) VALUES (\"Captain Awesome\", \"captain@awesome.com\");\n",
        "\n",
        "CREATE TABLE orders (\n",
        "    id INTEGER PRIMARY KEY AUTOINCREMENT,\n",
        "    customer_id INTEGER,\n",
        "    item TEXT,\n",
        "    price REAL);\n",
        "\n",
        "INSERT INTO orders (customer_id, item, price)\n",
        "    VALUES (1, \"Sonic Screwdriver\", 1000.00);\n",
        "INSERT INTO orders (customer_id, item, price)\n",
        "    VALUES (2, \"High Quality Broomstick\", 40.00);\n",
        "INSERT INTO orders (customer_id, item, price)\n",
        "    VALUES (1, \"TARDIS\", 1000000.00);\n",
        "    \n",
        "SELECT customers.name, customers.email, orders.item, orders.price \n",
        "    FROM customers\n",
        "    LEFT OUTER JOIN orders\n",
        "    ON customers.id = orders.customer_id;\n",
        "    \n"
      ],
      "metadata": {
        "id": "Gom_lBNdWDq9"
      },
      "execution_count": null,
      "outputs": []
    }
  ]
}