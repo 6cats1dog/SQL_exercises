{
  "nbformat": 4,
  "nbformat_minor": 0,
  "metadata": {
    "colab": {
      "name": "Advanced SQL queries.ipynb",
      "provenance": []
    },
    "kernelspec": {
      "name": "python3",
      "display_name": "Python 3"
    },
    "language_info": {
      "name": "python"
    }
  },
  "cells": [
    {
      "cell_type": "markdown",
      "source": [
        "Challenge: Karaoke song selector"
      ],
      "metadata": {
        "id": "mKMl3jwxR68C"
      }
    },
    {
      "cell_type": "code",
      "execution_count": null,
      "metadata": {
        "id": "3PSrm-dNRv4q"
      },
      "outputs": [],
      "source": [
        "CREATE TABLE songs (\n",
        "    id INTEGER PRIMARY KEY,\n",
        "    title TEXT,\n",
        "    artist TEXT,\n",
        "    mood TEXT,\n",
        "    duration INTEGER,\n",
        "    released INTEGER);\n",
        "    \n",
        "INSERT INTO songs (title, artist, mood, duration, released)\n",
        "    VALUES (\"Bohemian Rhapsody\", \"Queen\", \"epic\", 60, 1975);\n",
        "INSERT INTO songs (title, artist, mood, duration, released)\n",
        "    VALUES (\"Let it go\", \"Idina Menzel\", \"epic\", 227, 2013);\n",
        "INSERT INTO songs (title, artist, mood, duration, released)\n",
        "    VALUES (\"I will survive\", \"Gloria Gaynor\", \"epic\", 198, 1978);\n",
        "INSERT INTO songs (title, artist, mood, duration, released)\n",
        "    VALUES (\"Twist and Shout\", \"The Beatles\", \"happy\", 152, 1963);\n",
        "INSERT INTO songs (title, artist, mood, duration, released)\n",
        "    VALUES (\"La Bamba\", \"Ritchie Valens\", \"happy\", 166, 1958);\n",
        "INSERT INTO songs (title, artist, mood, duration, released)\n",
        "    VALUES (\"I will always love you\", \"Whitney Houston\", \"epic\", 273, 1992);\n",
        "INSERT INTO songs (title, artist, mood, duration, released)\n",
        "    VALUES (\"Sweet Caroline\", \"Neil Diamond\", \"happy\", 201, 1969);\n",
        "INSERT INTO songs (title, artist, mood, duration, released)\n",
        "    VALUES (\"Call me maybe\", \"Carly Rae Jepsen\", \"happy\", 193, 2011);\n",
        "    \n",
        "SELECT title FROM songs ;\n",
        "SELECT title FROM songs WHERE mood = \"epic\" OR released > 1990;\n",
        "\n",
        "SELECT title FROM songs WHERE mood = \"epic\" AND released > 1990 AND duration < 240;"
      ]
    },
    {
      "cell_type": "markdown",
      "source": [
        "Challenge: The wordiest author\n"
      ],
      "metadata": {
        "id": "Mb8NDErUSD6e"
      }
    },
    {
      "cell_type": "code",
      "source": [
        "CREATE TABLE books (\n",
        "    id INTEGER PRIMARY KEY AUTOINCREMENT,\n",
        "    author TEXT,\n",
        "    title TEXT,\n",
        "    words INTEGER);\n",
        "    \n",
        "INSERT INTO books (author, title, words)\n",
        "    VALUES (\"J.K. Rowling\", \"Harry Potter and the Philosopher's Stone\", 79944);\n",
        "INSERT INTO books (author, title, words)\n",
        "    VALUES (\"J.K. Rowling\", \"Harry Potter and the Chamber of Secrets\", 85141);\n",
        "INSERT INTO books (author, title, words)\n",
        "    VALUES (\"J.K. Rowling\", \"Harry Potter and the Prisoner of Azkaban\", 107253);\n",
        "INSERT INTO books (author, title, words)\n",
        "    VALUES (\"J.K. Rowling\", \"Harry Potter and the Goblet of Fire\", 190637);\n",
        "INSERT INTO books (author, title, words)\n",
        "    VALUES (\"J.K. Rowling\", \"Harry Potter and the Order of the Phoenix\", 257045);\n",
        "INSERT INTO books (author, title, words)\n",
        "    VALUES (\"J.K. Rowling\", \"Harry Potter and the Half-Blood Prince\", 168923);\n",
        "INSERT INTO books (author, title, words)\n",
        "    VALUES (\"J.K. Rowling\", \"Harry Potter and the Deathly Hallows\", 197651);\n",
        "\n",
        "INSERT INTO books (author, title, words)\n",
        "    VALUES (\"Stephenie Meyer\", \"Twilight\", 118501);\n",
        "INSERT INTO books (author, title, words)\n",
        "    VALUES (\"Stephenie Meyer\", \"New Moon\", 132807);\n",
        "INSERT INTO books (author, title, words)\n",
        "    VALUES (\"Stephenie Meyer\", \"Eclipse\", 147930);\n",
        "INSERT INTO books (author, title, words)\n",
        "    VALUES (\"Stephenie Meyer\", \"Breaking Dawn\", 192196);\n",
        "    \n",
        "INSERT INTO books (author, title, words)\n",
        "    VALUES (\"J.R.R. Tolkien\", \"The Hobbit\", 95022);\n",
        "INSERT INTO books (author, title, words)\n",
        "    VALUES (\"J.R.R. Tolkien\", \"Fellowship of the Ring\", 177227);\n",
        "INSERT INTO books (author, title, words)\n",
        "    VALUES (\"J.R.R. Tolkien\", \"Two Towers\", 143436);\n",
        "INSERT INTO books (author, title, words)\n",
        "    VALUES (\"J.R.R. Tolkien\", \"Return of the King\", 134462);\n",
        " \n",
        "SELECT author, SUM(words) AS total_words FROM books GROUP BY author HAVING total_words > 1000000;\n",
        "\n",
        "SELECT author, AVG(words) AS avg_words FROM books GROUP BY author HAVING avg_words > 150000;\n"
      ],
      "metadata": {
        "id": "AXDb0RF3SEHv"
      },
      "execution_count": null,
      "outputs": []
    },
    {
      "cell_type": "markdown",
      "source": [
        "Challenge: Gradebook\n"
      ],
      "metadata": {
        "id": "ghx1dEP0SOPq"
      }
    },
    {
      "cell_type": "code",
      "source": [
        "\n",
        "CREATE TABLE student_grades (\n",
        "    id INTEGER PRIMARY KEY AUTOINCREMENT,\n",
        "    name TEXT,\n",
        "    number_grade INTEGER,\n",
        "    fraction_completed REAL);\n",
        "    \n",
        "INSERT INTO student_grades (name, number_grade, fraction_completed)\n",
        "    VALUES (\"Winston\", 90, 0.805);\n",
        "INSERT INTO student_grades (name, number_grade, fraction_completed)\n",
        "    VALUES (\"Winnefer\", 95, 0.901);\n",
        "INSERT INTO student_grades (name, number_grade, fraction_completed)\n",
        "    VALUES (\"Winsteen\", 85, 0.906);\n",
        "INSERT INTO student_grades (name, number_grade, fraction_completed)\n",
        "    VALUES (\"Wincifer\", 66, 0.7054);\n",
        "INSERT INTO student_grades (name, number_grade, fraction_completed)\n",
        "    VALUES (\"Winster\", 76, 0.5013);\n",
        "INSERT INTO student_grades (name, number_grade, fraction_completed)\n",
        "    VALUES (\"Winstonia\", 82, 0.9045);\n",
        "\n",
        "SELECT name, number_grade, ROUND(100 * fraction_completed) AS percent_completed FROM student_grades;\n",
        "\n",
        "SELECT COUNT(*),\n",
        "    CASE\n",
        "        WHEN number_grade > 90 THEN \"A\"\n",
        "        WHEN number_grade > 80 THEN \"B\"\n",
        "        WHEN number_grade > 70 THEN \"C\"\n",
        "        ELSE \"F\"\n",
        "    END AS letter_grade\n",
        "FROM student_grades\n",
        "GROUP BY letter_grade"
      ],
      "metadata": {
        "id": "UyC6BQx1SOhF"
      },
      "execution_count": null,
      "outputs": []
    }
  ]
}